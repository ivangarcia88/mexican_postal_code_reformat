{
 "cells": [
  {
   "cell_type": "code",
   "execution_count": 1,
   "id": "4201d723",
   "metadata": {},
   "outputs": [],
   "source": [
    "import pandas as pd\n",
    "import json "
   ]
  },
  {
   "cell_type": "markdown",
   "id": "f7dbdfbd",
   "metadata": {},
   "source": [
    "### Defining rules"
   ]
  },
  {
   "cell_type": "code",
   "execution_count": 2,
   "id": "2d9d0bfa",
   "metadata": {},
   "outputs": [],
   "source": [
    "#DEFINITIONS\n",
    "POSTAL_CODE = \"codigo_postal\"\n",
    "SUBURB = \"colonia\"\n",
    "STATE = \"estado\"\n",
    "MUNICIPALITY = \"municipio\"\n",
    "CITY = \"ciudad\"\n",
    "INPUT_FOLDER = \"original_database/\"\n",
    "INPUT_FILE = \"CPdescarga.xls\"\n",
    "OUTPUT_FOLDER = \"processed_database/\"\n",
    "OUTPUT_CSV_FILE = \"codigos_postales.csv\"\n",
    "OUTPUT_JSON = \"codigos_postales.json\"\n",
    "\n",
    "#Used for renaming states\n",
    "best_known_names_for_states = {\"Coahuila de Zaragoza\":\"Coahuila\", \"Michoacán de Ocampo\":\"Michoacán\",\n",
    "                              \"Veracruz de Ignacio de la Llave\": \"Veracruz\"}\n",
    "#Used to Ignore sheets\n",
    "sheet_names_ignore = [\"Nota\"]\n",
    "\n",
    "#Used to include and rename a column\n",
    "renaming_columns = {\"d_codigo\":POSTAL_CODE,\"d_asenta\":SUBURB,\"d_estado\":STATE,\"D_mnpio\":MUNICIPALITY,\n",
    "                    \"d_ciudad\":CITY}"
   ]
  },
  {
   "cell_type": "markdown",
   "id": "8a77d66b",
   "metadata": {},
   "source": [
    "### Reading source \"database\""
   ]
  },
  {
   "cell_type": "code",
   "execution_count": 3,
   "id": "07a2dd9e",
   "metadata": {},
   "outputs": [],
   "source": [
    "xls = pd.ExcelFile(f\"{INPUT_FOLDER}{INPUT_FILE}\")"
   ]
  },
  {
   "cell_type": "markdown",
   "id": "06ca8062",
   "metadata": {},
   "source": [
    "### Getting States from sheets"
   ]
  },
  {
   "cell_type": "code",
   "execution_count": 4,
   "id": "84e2b2fa",
   "metadata": {
    "scrolled": false
   },
   "outputs": [],
   "source": [
    "states = list(filter(lambda x: x not in sheet_names_ignore, xls.sheet_names))"
   ]
  },
  {
   "cell_type": "markdown",
   "id": "d75dfc2b",
   "metadata": {},
   "source": [
    "# Creating CSV"
   ]
  },
  {
   "cell_type": "markdown",
   "id": "815aa5c1",
   "metadata": {},
   "source": [
    "### Merging information from all states in one dataframe"
   ]
  },
  {
   "cell_type": "code",
   "execution_count": 5,
   "id": "ac798bd4",
   "metadata": {},
   "outputs": [],
   "source": [
    "df =  pd.DataFrame(columns = list(renaming_columns.values()))\n",
    "for state in states:\n",
    "    df = pd.concat([df,xls.parse(state).rename(columns=renaming_columns)],ignore_index=True)"
   ]
  },
  {
   "cell_type": "markdown",
   "id": "bc5bb0c4",
   "metadata": {},
   "source": [
    "### Filtering selected columns "
   ]
  },
  {
   "cell_type": "code",
   "execution_count": 6,
   "id": "8f15e9e1",
   "metadata": {},
   "outputs": [],
   "source": [
    "df = df[list(renaming_columns.values())]"
   ]
  },
  {
   "cell_type": "markdown",
   "id": "d29b7d78",
   "metadata": {},
   "source": [
    "### Filling empty values and updating states names"
   ]
  },
  {
   "cell_type": "code",
   "execution_count": 7,
   "id": "6927b7c4",
   "metadata": {},
   "outputs": [],
   "source": [
    "df.fillna(\"\", inplace=True)\n",
    "df[STATE].replace(best_known_names_for_states, inplace=True)"
   ]
  },
  {
   "cell_type": "markdown",
   "id": "50e4113b",
   "metadata": {},
   "source": [
    "### Writing CSV File"
   ]
  },
  {
   "cell_type": "code",
   "execution_count": 8,
   "id": "70c9bf88",
   "metadata": {},
   "outputs": [],
   "source": [
    "df.sort_values([POSTAL_CODE,SUBURB],inplace=True)\n",
    "df.to_csv(f\"{OUTPUT_FOLDER}{OUTPUT_CSV_FILE}\",index=False,encoding='utf-8')"
   ]
  },
  {
   "cell_type": "markdown",
   "id": "f73d3f57",
   "metadata": {},
   "source": [
    "# Creating JSON"
   ]
  },
  {
   "cell_type": "markdown",
   "id": "48ae2a52",
   "metadata": {},
   "source": [
    "### Creating JSON Structure"
   ]
  },
  {
   "cell_type": "code",
   "execution_count": 10,
   "id": "e40edf7e",
   "metadata": {},
   "outputs": [],
   "source": [
    "json_data = {\"codigos_postales\":{}}\n",
    "postal_codes = df[POSTAL_CODE].unique()\n",
    "for postal_code in postal_codes:\n",
    "    postal_code = int(postal_code)\n",
    "    for row in df[df[POSTAL_CODE]==postal_code].iloc():\n",
    "        new_reg = {SUBURB:row[SUBURB], STATE:row[STATE],MUNICIPALITY:row[MUNICIPALITY], CITY:row[CITY]}\n",
    "        if(postal_code in json_data[\"codigos_postales\"]):\n",
    "            json_data[\"codigos_postales\"][postal_code].append(new_reg)\n",
    "        else:\n",
    "            json_data[\"codigos_postales\"][postal_code] = [new_reg]"
   ]
  },
  {
   "cell_type": "code",
   "execution_count": 11,
   "id": "1f7f9cff",
   "metadata": {
    "scrolled": true
   },
   "outputs": [],
   "source": [
    "#json_object = json.dumps(json_data, indent = 4).encode('utf-8')\n",
    "with open(f\"{OUTPUT_FOLDER}{OUTPUT_JSON}\", 'w+', encoding='utf-8') as nf:\n",
    "    data = json.dumps(json_data, ensure_ascii=False, indent=4)\n",
    "    nf.write(data)"
   ]
  }
 ],
 "metadata": {
  "kernelspec": {
   "display_name": "Python 3 (ipykernel)",
   "language": "python",
   "name": "python3"
  },
  "language_info": {
   "codemirror_mode": {
    "name": "ipython",
    "version": 3
   },
   "file_extension": ".py",
   "mimetype": "text/x-python",
   "name": "python",
   "nbconvert_exporter": "python",
   "pygments_lexer": "ipython3",
   "version": "3.10.8"
  }
 },
 "nbformat": 4,
 "nbformat_minor": 5
}
