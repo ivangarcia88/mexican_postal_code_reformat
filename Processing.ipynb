{
 "cells": [
  {
   "cell_type": "code",
   "execution_count": 1,
   "id": "4201d723",
   "metadata": {},
   "outputs": [],
   "source": [
    "import pandas as pd\n",
    "import json "
   ]
  },
  {
   "cell_type": "markdown",
   "id": "f7dbdfbd",
   "metadata": {},
   "source": [
    "### Defining rules"
   ]
  },
  {
   "cell_type": "code",
   "execution_count": 2,
   "id": "2d9d0bfa",
   "metadata": {},
   "outputs": [],
   "source": [
    "#DEFINITIONS\n",
    "POSTAL_CODE = \"codigo_postal\"\n",
    "SUBURB = \"colonia\"\n",
    "STATE = \"estado\"\n",
    "MUNICIPALITY = \"municipio\"\n",
    "CITY = \"ciudad\"\n",
    "INPUT_FOLDER = \"original_database/\"\n",
    "INPUT_FILE = \"CPdescarga.xls\"\n",
    "OUTPUT_FOLDER = \"processed_database/\"\n",
    "JSON_FOLDER = \"JSON/\"\n",
    "CSV_FOLDER = \"CSV/\"\n",
    "OUTPUT_CSV_FULL = \"codigos_postales.csv\"\n",
    "OUTPUT_CSV_REDUCED = \"codigos_postaless_reduced.csv\"\n",
    "OUTPUT_CSV_REDUCED_STATE = f\"{STATE}.csv\"\n",
    "OUTPUT_CSV_REDUCED_MUNICIPALITY = f\"{MUNICIPALITY}.csv\"\n",
    "OUTPUT_CSV_REDUCED_CITY = f\"{CITY}.csv\"\n",
    "OUTPUT_JSON_FULL = \"codigos_postales.json\"\n",
    "OUTPUT_JSON_REDUCED = \"codigos_postales_reduced.json\"\n",
    "MAIN_JSON_KEY = \"codigos_postales\"\n",
    "\n",
    "#Used for renaming states\n",
    "best_known_names_for_states = {\"Coahuila de Zaragoza\":\"Coahuila\", \"Michoacán de Ocampo\":\"Michoacán\",\n",
    "                              \"Veracruz de Ignacio de la Llave\": \"Veracruz\"}\n",
    "#Used to Ignore sheets\n",
    "sheet_names_ignore = [\"Nota\"]\n",
    "\n",
    "#Used to include and rename a column\n",
    "renaming_columns = {\"d_codigo\":POSTAL_CODE,\"d_asenta\":SUBURB,\"d_estado\":STATE,\"D_mnpio\":MUNICIPALITY,\n",
    "                    \"d_ciudad\":CITY}"
   ]
  },
  {
   "cell_type": "markdown",
   "id": "8a77d66b",
   "metadata": {},
   "source": [
    "### Reading source \"database\""
   ]
  },
  {
   "cell_type": "code",
   "execution_count": 3,
   "id": "07a2dd9e",
   "metadata": {},
   "outputs": [],
   "source": [
    "xls = pd.ExcelFile(f\"{INPUT_FOLDER}{INPUT_FILE}\")"
   ]
  },
  {
   "cell_type": "markdown",
   "id": "06ca8062",
   "metadata": {},
   "source": [
    "### Getting States from sheets"
   ]
  },
  {
   "cell_type": "code",
   "execution_count": 4,
   "id": "84e2b2fa",
   "metadata": {
    "scrolled": false
   },
   "outputs": [],
   "source": [
    "states = list(filter(lambda x: x not in sheet_names_ignore, xls.sheet_names))"
   ]
  },
  {
   "cell_type": "markdown",
   "id": "d75dfc2b",
   "metadata": {},
   "source": [
    "# Creating CSV"
   ]
  },
  {
   "cell_type": "markdown",
   "id": "815aa5c1",
   "metadata": {},
   "source": [
    "### Merging information from all states in one dataframe"
   ]
  },
  {
   "cell_type": "code",
   "execution_count": 5,
   "id": "ac798bd4",
   "metadata": {},
   "outputs": [],
   "source": [
    "df =  pd.DataFrame(columns = list(renaming_columns.values()))\n",
    "for state in states:\n",
    "    df = pd.concat([df,xls.parse(state).rename(columns=renaming_columns)],ignore_index=True)"
   ]
  },
  {
   "cell_type": "markdown",
   "id": "bc5bb0c4",
   "metadata": {},
   "source": [
    "### Filtering selected columns "
   ]
  },
  {
   "cell_type": "code",
   "execution_count": 6,
   "id": "8f15e9e1",
   "metadata": {},
   "outputs": [],
   "source": [
    "df = df[list(renaming_columns.values())]"
   ]
  },
  {
   "cell_type": "markdown",
   "id": "d29b7d78",
   "metadata": {},
   "source": [
    "### Filling empty values and updating states names"
   ]
  },
  {
   "cell_type": "code",
   "execution_count": 7,
   "id": "6927b7c4",
   "metadata": {},
   "outputs": [],
   "source": [
    "df.fillna(\"\", inplace=True)\n",
    "df[STATE].replace(best_known_names_for_states, inplace=True)\n",
    "df.sort_values([POSTAL_CODE,SUBURB],inplace=True)"
   ]
  },
  {
   "cell_type": "markdown",
   "id": "d74c40a1",
   "metadata": {},
   "source": [
    "### Creating normalized CSV"
   ]
  },
  {
   "cell_type": "code",
   "execution_count": 8,
   "id": "502e8167",
   "metadata": {},
   "outputs": [],
   "source": [
    "df_norm = df.copy()\n",
    "keyDict = {STATE:[],MUNICIPALITY:[],CITY:[]}\n",
    "df_norm[STATE], keyDict[STATE] = pd.factorize(df[STATE])\n",
    "df_norm[MUNICIPALITY], keyDict[MUNICIPALITY] = pd.factorize(df[MUNICIPALITY])\n",
    "df_norm[CITY], keyDict[CITY] = pd.factorize(df[CITY])\n",
    "df_STATE = pd.DataFrame(data =keyDict[STATE],  columns = [STATE])\n",
    "df_MUNICIPALITY = pd.DataFrame(data =keyDict[MUNICIPALITY],  columns = [MUNICIPALITY])\n",
    "df_CITY = pd.DataFrame(data =keyDict[CITY],  columns = [CITY])"
   ]
  },
  {
   "cell_type": "markdown",
   "id": "50e4113b",
   "metadata": {},
   "source": [
    "### Writing CSV Files"
   ]
  },
  {
   "cell_type": "code",
   "execution_count": 13,
   "id": "70c9bf88",
   "metadata": {},
   "outputs": [],
   "source": [
    "df.to_csv(f\"{OUTPUT_FOLDER}{CSV_FOLDER}{OUTPUT_CSV_FULL}\",index=False,encoding='utf-8')\n",
    "df_norm.to_csv(f\"{OUTPUT_FOLDER}{CSV_FOLDER}{OUTPUT_CSV_REDUCED}\",index=False,encoding='utf-8')\n",
    "df_STATE.to_csv(f\"{OUTPUT_FOLDER}{CSV_FOLDER}{OUTPUT_CSV_REDUCED_STATE}\",encoding='utf-8')\n",
    "df_MUNICIPALITY.to_csv(f\"{OUTPUT_FOLDER}{CSV_FOLDER}{OUTPUT_CSV_REDUCED_MUNICIPALITY}\",encoding='utf-8')\n",
    "df_CITY.to_csv(f\"{OUTPUT_FOLDER}{CSV_FOLDER}{OUTPUT_CSV_REDUCED_CITY}\",encoding='utf-8')\n"
   ]
  },
  {
   "cell_type": "markdown",
   "id": "f73d3f57",
   "metadata": {},
   "source": [
    "# Creating JSON"
   ]
  },
  {
   "cell_type": "markdown",
   "id": "48ae2a52",
   "metadata": {},
   "source": [
    "### Creating JSON Structures"
   ]
  },
  {
   "cell_type": "code",
   "execution_count": 10,
   "id": "e40edf7e",
   "metadata": {},
   "outputs": [],
   "source": [
    "full_json_data = {MAIN_JSON_KEY:{}}\n",
    "reduced_json_data = {MAIN_JSON_KEY:{}}\n",
    "postal_codes = df[POSTAL_CODE].unique()\n",
    "for postal_code in postal_codes:\n",
    "    postal_code = int(postal_code)\n",
    "    rows = df[df[POSTAL_CODE]==postal_code]\n",
    "    #print(rows.keys())\n",
    "    #full_json_data[postal_code] = {STATE:list(rows[STATE]), MUNICIPALITY:list(rows[MUNICIPALITY]), \n",
    "    #                               CITY:list(rows[CITY]), SUBURB:list(rows[SUBURB])}\n",
    "    for row in rows.iloc():\n",
    "        new_reg = {SUBURB:row[SUBURB], STATE:row[STATE],MUNICIPALITY:row[MUNICIPALITY], CITY:row[CITY]}\n",
    "        if(postal_code in full_json_data[MAIN_JSON_KEY]):\n",
    "            full_json_data[MAIN_JSON_KEY][postal_code].append(new_reg)\n",
    "        else:\n",
    "            full_json_data[MAIN_JSON_KEY][postal_code] = [new_reg]\n",
    "    reduced_json_data[MAIN_JSON_KEY][postal_code] = {STATE:list(rows[STATE])[0], MUNICIPALITY:list(rows[MUNICIPALITY])[0], \n",
    "                                   CITY:list(rows[CITY])[0], SUBURB:list(dict.fromkeys(list(rows[SUBURB])))}\n",
    "       "
   ]
  },
  {
   "cell_type": "markdown",
   "id": "c37089f3",
   "metadata": {},
   "source": [
    "### Writing JSON Files"
   ]
  },
  {
   "cell_type": "code",
   "execution_count": 11,
   "id": "1f7f9cff",
   "metadata": {
    "scrolled": true
   },
   "outputs": [],
   "source": [
    "with open(f\"{OUTPUT_FOLDER}{JSON_FOLDER}{OUTPUT_JSON_FULL}\", 'w+', encoding='utf-8') as nf:\n",
    "    data = json.dumps(full_json_data, ensure_ascii=False, indent=4)\n",
    "    nf.write(data)\n",
    "\n",
    "with open(f\"{OUTPUT_FOLDER}{JSON_FOLDER}{OUTPUT_JSON_REDUCED}\", 'w+', encoding='utf-8') as nf:\n",
    "    data = json.dumps(reduced_json_data, ensure_ascii=False, indent=4)\n",
    "    nf.write(data)"
   ]
  }
 ],
 "metadata": {
  "kernelspec": {
   "display_name": "Python 3 (ipykernel)",
   "language": "python",
   "name": "python3"
  },
  "language_info": {
   "codemirror_mode": {
    "name": "ipython",
    "version": 3
   },
   "file_extension": ".py",
   "mimetype": "text/x-python",
   "name": "python",
   "nbconvert_exporter": "python",
   "pygments_lexer": "ipython3",
   "version": "3.10.8"
  }
 },
 "nbformat": 4,
 "nbformat_minor": 5
}
